{
 "cells": [
  {
   "cell_type": "markdown",
   "id": "0bc97277-4aec-4d8a-96c8-084a1fa1ecc0",
   "metadata": {
    "user_expressions": []
   },
   "source": [
    "# STAT 156 - Final Project"
   ]
  },
  {
   "cell_type": "markdown",
   "id": "8eb37759-d06a-4995-b031-6f6f9e621b1a",
   "metadata": {
    "user_expressions": []
   },
   "source": [
    "## Predicting Health Insurance Charges: An Exploratory Analysis of Demographic and Lifestyle Factors"
   ]
  },
  {
   "cell_type": "markdown",
   "id": "7431f172-bd3b-4f8d-8a5b-51925027772f",
   "metadata": {
    "user_expressions": []
   },
   "source": [
    "### 1. Introduction"
   ]
  },
  {
   "cell_type": "markdown",
   "id": "d21a38e3-eb9a-41f8-b209-d6f7725e4c08",
   "metadata": {
    "user_expressions": []
   },
   "source": [
    "#### 1.1 Overview and Objectives"
   ]
  },
  {
   "cell_type": "markdown",
   "id": "59a279ed-29f4-4a75-b6c2-917866c34dcf",
   "metadata": {
    "user_expressions": []
   },
   "source": [
    "The rising cost of healthcare has become a significant concern for both individuals and insurance companies. In this analysis, our primary objective is to explore the factors affecting health insurance charges and develop a model to predict these charges based on demographic and lifestyle factors. Understanding these relationships can help insurance companies develop better pricing strategies and assist individuals in making informed decisions about their health and insurance options."
   ]
  },
  {
   "cell_type": "markdown",
   "id": "0e8d475f-37eb-418a-9a02-9f0e79917ddf",
   "metadata": {
    "user_expressions": []
   },
   "source": [
    "#### 1.2 Dataset Description and Relevance"
   ]
  },
  {
   "cell_type": "markdown",
   "id": "4018d6ff-4ad7-4ece-8794-d0907f4e799f",
   "metadata": {
    "user_expressions": []
   },
   "source": [
    "The dataset used for this analysis has been obtained from [SOURCE] and contains information on insurance charges for a sample of individuals. It provides insight into the relationship between various factors and the cost of health insurance, making it highly relevant to the problem at hand. The dataset consists of 1340 records and 7 columns, including the target variable (charges) and the following predictor variables:\n",
    "\n",
    "1. age: Age of the primary beneficiary (in years).\n",
    "2. sex: Gender of the primary beneficiary, denoted as 'male' or 'female'.\n",
    "3. bmi: Body Mass Index (BMI) of the primary beneficiary, calculated as weight (in kg) divided by height (in m) squared. BMI is an indicator of body fat and is commonly used to categorize individuals as underweight, normal weight, overweight, or obese.\n",
    "4. children: Number of dependents (children) covered by the health insurance plan.\n",
    "5. smoker: Smoking status of the primary beneficiary, denoted as 'yes' or 'no'.\n",
    "6. region: Geographical region of the primary beneficiary's residence, categorized as 'northeast', 'northwest', 'southeast', or 'southwest'.\n",
    "\n",
    "By examining these variables, we aim to identify key factors that contribute to health insurance charges and use them to predict future charges accurately."
   ]
  },
  {
   "cell_type": "markdown",
   "id": "7a75d5d0-0181-47a9-a2d0-24c43595b1f6",
   "metadata": {
    "user_expressions": []
   },
   "source": [
    "### 2. Data Preprocessing and Exploration"
   ]
  },
  {
   "cell_type": "markdown",
   "id": "23a05a17-2ca8-46cc-b78c-40f35d7c7958",
   "metadata": {
    "user_expressions": []
   },
   "source": [
    "#### 2.1 Preprocessing and Cleaning"
   ]
  },
  {
   "cell_type": "markdown",
   "id": "962ded31-ed17-4151-9493-ec23734bdbfe",
   "metadata": {
    "user_expressions": []
   },
   "source": [
    "The dataset provided was already in a clean and well-organized format, requiring minimal preprocessing. We verified the data types, checked for missing or duplicate values, and confirmed that the categorical variables were consistently labeled. No significant data cleaning was necessary, allowing us to proceed directly to the data exploration phase."
   ]
  },
  {
   "cell_type": "markdown",
   "id": "44e060fa-9ec4-4587-93aa-13baa0746fda",
   "metadata": {
    "user_expressions": []
   },
   "source": [
    "#### 2.2 Data Exploration"
   ]
  },
  {
   "cell_type": "markdown",
   "id": "36da6ad1-550f-4214-a1c2-a9e3e8b11f88",
   "metadata": {
    "user_expressions": []
   },
   "source": [
    "An extensive exploratory data analysis (EDA) was conducted to gain insights into the dataset and identify potential patterns or correlations. All the detailed exploration can be found in the eda.ipynb notebook. Some of the key techniques used include:\n",
    "\n",
    "- Heatmaps: To visualize the correlation between different variables.\n",
    "- Histograms: To examine the distribution of charges among smokers and non-smokers.\n",
    "- Box plots: To compare the distribution of charges between smoker and non-smoker groups, as well as between males and females.\n",
    "- Scatter plots: To investigate the relationship between age and charges for non-smokers."
   ]
  },
  {
   "cell_type": "markdown",
   "id": "ffb48be5-2c12-4cb1-acb5-55e2f3815268",
   "metadata": {
    "user_expressions": []
   },
   "source": [
    "#### 2.3 Key Findings"
   ]
  },
  {
   "cell_type": "markdown",
   "id": "01b0f636-fdad-41bf-9b1b-1b0d6eb94f10",
   "metadata": {
    "user_expressions": []
   },
   "source": [
    "Through our data exploration, we discovered several interesting patterns and correlations in the data:\n",
    "\n",
    "1. A strong correlation was observed between smoking status and insurance charges, with smokers having significantly higher charges than non-smokers.\n",
    "2. Age and BMI were also positively correlated with insurance charges, indicating that older individuals and those with higher BMIs tend to have higher charges.\n",
    "3. The distribution of charges for males and females showed some differences, but the effect of sex on charges was less pronounced compared to other factors like smoking status, age, and BMI.\n",
    "4. The number of children covered by the insurance plan had a minor effect on charges, with individuals having more dependents generally facing higher charges.\n",
    "\n",
    "These findings provided a solid foundation for further analysis and the development of a predictive model for health insurance charges."
   ]
  },
  {
   "cell_type": "markdown",
   "id": "60f76184-8fad-49e3-8d9d-7c93b37ae6f4",
   "metadata": {
    "user_expressions": []
   },
   "source": [
    "### 3. Assumptions and Justification"
   ]
  },
  {
   "cell_type": "markdown",
   "id": "a1b6cb55-7ebf-4fb2-8464-f325880c30b0",
   "metadata": {
    "user_expressions": []
   },
   "source": [
    "#### 3.1 Assumptions "
   ]
  },
  {
   "cell_type": "markdown",
   "id": "d4e9a0f3-3cd7-402c-b5f2-e15906d4edb7",
   "metadata": {
    "user_expressions": []
   },
   "source": [
    "We made several assumptions about the data and its acquisition:\n",
    "\n",
    "1. The data is representative of the population of interest, capturing a diverse set of individuals with varying demographic and lifestyle factors.\n",
    "2. The data accurately reflects the real-world situation, and there are no systematic errors or biases in the data collection process.\n",
    "3. The variables included in the dataset are relevant and sufficient to predict health insurance charges."
   ]
  },
  {
   "cell_type": "markdown",
   "id": "2f4f946b-12de-4e59-bca7-b2d027e87468",
   "metadata": {
    "user_expressions": []
   },
   "source": [
    "#### 3.2 Justifications and Limitations"
   ]
  },
  {
   "cell_type": "markdown",
   "id": "f73bc37d-817b-4f61-a485-58695cdf0a86",
   "metadata": {
    "user_expressions": []
   },
   "source": [
    "We chose the available variables (age, sex, BMI, children, smoker, and region) because they are commonly considered factors that influence health insurance charges. No major transformations were applied to the data, as it was already in a clean and usable format. However, we acknowledge that there could be potential limitations or biases in the data:\n",
    "\n",
    "- The dataset may not capture all relevant factors that influence insurance charges, such as pre-existing medical conditions or income levels.\n",
    "- There may be biases in the data collection process that could affect the generalizability of the results.\n",
    "- The size of the dataset may limit the complexity of the models that can be built or the confidence in the predictions."
   ]
  },
  {
   "cell_type": "markdown",
   "id": "990a9a95-49f6-4913-a49b-20e7f65e0795",
   "metadata": {
    "user_expressions": []
   },
   "source": [
    "#### 3.3 Statistical Hypothesis and Model"
   ]
  },
  {
   "cell_type": "markdown",
   "id": "dbae31a2-92f6-4df5-9bd5-1cc2faafb833",
   "metadata": {
    "user_expressions": []
   },
   "source": [
    "Based on the findings from the EDA, we propose a statistical model to predict health insurance charges using the available variables. The choice of the specific model will be based on its performance and interpretability. We will test different models, such as linear regression, decision trees, or ensemble methods, and choose the one that best balances accuracy and simplicity. The reasoning behind this approach is to create a model that not only performs well but also provides insights into the relationships between the variables and insurance charges."
   ]
  },
  {
   "cell_type": "markdown",
   "id": "20a73f34-6bcd-4b4a-9f9a-5243ebb992d2",
   "metadata": {
    "user_expressions": []
   },
   "source": [
    "### 4. Analysis and Results"
   ]
  },
  {
   "cell_type": "markdown",
   "id": "879870a4-4413-402c-a466-5049ab575145",
   "metadata": {
    "user_expressions": []
   },
   "source": [
    "### 5. Discussion and Conclusions"
   ]
  },
  {
   "cell_type": "markdown",
   "id": "b315309f-5f81-493f-abb9-4cfdce61937e",
   "metadata": {
    "user_expressions": []
   },
   "source": [
    "### 6. Contribution Statement"
   ]
  },
  {
   "cell_type": "code",
   "execution_count": null,
   "id": "1ffa98fe-5429-4981-a15c-30fc26bb3d4c",
   "metadata": {},
   "outputs": [],
   "source": []
  }
 ],
 "metadata": {
  "kernelspec": {
   "display_name": "Python 3 (ipykernel)",
   "language": "python",
   "name": "python3"
  },
  "language_info": {
   "codemirror_mode": {
    "name": "ipython",
    "version": 3
   },
   "file_extension": ".py",
   "mimetype": "text/x-python",
   "name": "python",
   "nbconvert_exporter": "python",
   "pygments_lexer": "ipython3",
   "version": "3.10.8"
  }
 },
 "nbformat": 4,
 "nbformat_minor": 5
}
